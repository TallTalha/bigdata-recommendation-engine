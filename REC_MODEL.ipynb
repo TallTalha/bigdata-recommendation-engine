{
 "cells": [
  {
   "cell_type": "markdown",
   "id": "66410cb5",
   "metadata": {},
   "source": [
    "# Verinin Yüklenmesi & Ön Hazırlık"
   ]
  },
  {
   "cell_type": "code",
   "execution_count": 18,
   "id": "9276b247",
   "metadata": {},
   "outputs": [],
   "source": [
    "from pyspark.sql import SparkSession\n",
    "from pyspark.sql import functions as F"
   ]
  },
  {
   "cell_type": "code",
   "execution_count": 19,
   "id": "337f3314",
   "metadata": {},
   "outputs": [],
   "source": [
    "spark = SparkSession.builder.appName(\"RecModel\").getOrCreate()"
   ]
  },
  {
   "cell_type": "code",
   "execution_count": 20,
   "id": "e775a809",
   "metadata": {},
   "outputs": [],
   "source": [
    "data_path = \"/home/projects/bigdata-recommendation-engine/data/\""
   ]
  },
  {
   "cell_type": "code",
   "execution_count": 21,
   "id": "c9bfac2a",
   "metadata": {},
   "outputs": [
    {
     "name": "stderr",
     "output_type": "stream",
     "text": [
      "                                                                                \r"
     ]
    }
   ],
   "source": [
    "books_df = (\n",
    "    spark.read\n",
    "    .format(\"csv\")\n",
    "    .option(\"header\", \"true\")\n",
    "    .option(\"inferSchema\", \"true\")\n",
    "    .load(f\"{data_path}books.csv\")\n",
    ")\n",
    "ratings_df = (\n",
    "    spark.read\n",
    "    .format(\"csv\")\n",
    "    .option(\"header\", \"true\")\n",
    "    .option(\"inferSchema\", \"true\")\n",
    "    .load(f\"{data_path}ratings.csv\")\n",
    ")"
   ]
  },
  {
   "cell_type": "code",
   "execution_count": 22,
   "id": "5e5bfaa9",
   "metadata": {},
   "outputs": [
    {
     "name": "stdout",
     "output_type": "stream",
     "text": [
      "root\n",
      " |-- id: integer (nullable = true)\n",
      " |-- book_id: integer (nullable = true)\n",
      " |-- best_book_id: integer (nullable = true)\n",
      " |-- work_id: integer (nullable = true)\n",
      " |-- books_count: integer (nullable = true)\n",
      " |-- isbn: string (nullable = true)\n",
      " |-- isbn13: double (nullable = true)\n",
      " |-- authors: string (nullable = true)\n",
      " |-- original_publication_year: double (nullable = true)\n",
      " |-- original_title: string (nullable = true)\n",
      " |-- title: string (nullable = true)\n",
      " |-- language_code: string (nullable = true)\n",
      " |-- average_rating: string (nullable = true)\n",
      " |-- ratings_count: string (nullable = true)\n",
      " |-- work_ratings_count: string (nullable = true)\n",
      " |-- work_text_reviews_count: string (nullable = true)\n",
      " |-- ratings_1: double (nullable = true)\n",
      " |-- ratings_2: integer (nullable = true)\n",
      " |-- ratings_3: integer (nullable = true)\n",
      " |-- ratings_4: integer (nullable = true)\n",
      " |-- ratings_5: integer (nullable = true)\n",
      " |-- image_url: string (nullable = true)\n",
      " |-- small_image_url: string (nullable = true)\n",
      "\n"
     ]
    }
   ],
   "source": [
    "books_df.printSchema()"
   ]
  },
  {
   "cell_type": "code",
   "execution_count": 34,
   "id": "9bf02f30",
   "metadata": {},
   "outputs": [],
   "source": [
    "final_books_df = ( \n",
    "    books_df\n",
    "    .withColumn(\"best_book_id\", F.col(\"best_book_id\").cast(\"string\"))\n",
    "    .withColumn(\"work_id\", F.col(\"work_id\").cast(\"string\"))\n",
    "    .withColumn(\"isbn13\", F.col(\"isbn13\").cast(\"string\"))\n",
    "    .withColumn(\"original_publication_year\", F.col(\"original_publication_year\").cast(\"int\"))\n",
    "    .withColumn(\"average_rating\", F.col(\"average_rating\").cast(\"double\"))\n",
    "    .withColumn(\"ratings_count\", F.col(\"ratings_count\").cast(\"int\"))\n",
    "    .withColumn(\"work_ratings_count\", F.col(\"work_ratings_count\").cast(\"int\"))\n",
    "    .withColumn(\"work_text_reviews_count\", F.col(\"work_text_reviews_count\").cast(\"int\"))\n",
    "    .withColumn(\"ratings_1\", F.col(\"ratings_1\").cast(\"int\"))\n",
    ")"
   ]
  },
  {
   "cell_type": "code",
   "execution_count": 36,
   "id": "fc088e1b",
   "metadata": {},
   "outputs": [
    {
     "name": "stdout",
     "output_type": "stream",
     "text": [
      "root\n",
      " |-- id: integer (nullable = true)\n",
      " |-- book_id: integer (nullable = true)\n",
      " |-- best_book_id: string (nullable = true)\n",
      " |-- work_id: string (nullable = true)\n",
      " |-- books_count: integer (nullable = true)\n",
      " |-- isbn: string (nullable = true)\n",
      " |-- isbn13: string (nullable = true)\n",
      " |-- authors: string (nullable = true)\n",
      " |-- original_publication_year: integer (nullable = true)\n",
      " |-- original_title: string (nullable = true)\n",
      " |-- title: string (nullable = true)\n",
      " |-- language_code: string (nullable = true)\n",
      " |-- average_rating: double (nullable = true)\n",
      " |-- ratings_count: integer (nullable = true)\n",
      " |-- work_ratings_count: integer (nullable = true)\n",
      " |-- work_text_reviews_count: integer (nullable = true)\n",
      " |-- ratings_1: integer (nullable = true)\n",
      " |-- ratings_2: integer (nullable = true)\n",
      " |-- ratings_3: integer (nullable = true)\n",
      " |-- ratings_4: integer (nullable = true)\n",
      " |-- ratings_5: integer (nullable = true)\n",
      " |-- image_url: string (nullable = true)\n",
      " |-- small_image_url: string (nullable = true)\n",
      "\n"
     ]
    }
   ],
   "source": [
    "final_books_df.printSchema()"
   ]
  },
  {
   "cell_type": "code",
   "execution_count": 25,
   "id": "ca1d7873",
   "metadata": {},
   "outputs": [
    {
     "name": "stdout",
     "output_type": "stream",
     "text": [
      "root\n",
      " |-- book_id: integer (nullable = true)\n",
      " |-- user_id: integer (nullable = true)\n",
      " |-- rating: integer (nullable = true)\n",
      "\n"
     ]
    }
   ],
   "source": [
    "ratings_df.printSchema()"
   ]
  },
  {
   "cell_type": "code",
   "execution_count": 33,
   "id": "497086ca",
   "metadata": {},
   "outputs": [],
   "source": [
    "final_ratings_df = (\n",
    "    ratings_df\n",
    ")"
   ]
  },
  {
   "cell_type": "code",
   "execution_count": 35,
   "id": "66eebce9",
   "metadata": {},
   "outputs": [
    {
     "name": "stdout",
     "output_type": "stream",
     "text": [
      "root\n",
      " |-- book_id: integer (nullable = true)\n",
      " |-- user_id: integer (nullable = true)\n",
      " |-- rating: integer (nullable = true)\n",
      "\n"
     ]
    }
   ],
   "source": [
    "final_ratings_df.printSchema()"
   ]
  },
  {
   "cell_type": "markdown",
   "id": "5b0021c7",
   "metadata": {},
   "source": [
    "# Modelin Eğitilmesi"
   ]
  },
  {
   "cell_type": "code",
   "execution_count": 28,
   "id": "df3b933e",
   "metadata": {},
   "outputs": [],
   "source": [
    "from pyspark.ml.recommendation import ALS\n",
    "from pyspark.ml.evaluation import RegressionEvaluator"
   ]
  },
  {
   "cell_type": "code",
   "execution_count": 37,
   "id": "5b076d76",
   "metadata": {},
   "outputs": [
    {
     "data": {
      "text/plain": [
       "DataFrame[book_id: int, user_id: int, rating: int]"
      ]
     },
     "execution_count": 37,
     "metadata": {},
     "output_type": "execute_result"
    }
   ],
   "source": [
    "(training_set, test_set) = final_ratings_df.randomSplit([0.8,0.2], seed=42)\n",
    "training_set.cache()\n",
    "test_set.cache()"
   ]
  },
  {
   "cell_type": "code",
   "execution_count": 38,
   "id": "356cfd5b",
   "metadata": {},
   "outputs": [
    {
     "name": "stderr",
     "output_type": "stream",
     "text": [
      "                                                                                \r"
     ]
    },
    {
     "name": "stdout",
     "output_type": "stream",
     "text": [
      "Toplam Oy:981756\n"
     ]
    },
    {
     "name": "stderr",
     "output_type": "stream",
     "text": [
      "                                                                                \r"
     ]
    },
    {
     "name": "stdout",
     "output_type": "stream",
     "text": [
      "Eğitim Seti Toplam Oy: 785323\n"
     ]
    },
    {
     "name": "stderr",
     "output_type": "stream",
     "text": [
      "[Stage 30:=============================>                            (1 + 1) / 2]\r"
     ]
    },
    {
     "name": "stdout",
     "output_type": "stream",
     "text": [
      "Test Seti Toplam Oy:196433\n"
     ]
    },
    {
     "name": "stderr",
     "output_type": "stream",
     "text": [
      "                                                                                \r"
     ]
    }
   ],
   "source": [
    "print(f\"Toplam Oy:{final_ratings_df.count()}\")\n",
    "print(f\"Eğitim Seti Toplam Oy: {training_set.count()}\")\n",
    "print(f\"Test Seti Toplam Oy:{test_set.count()}\")"
   ]
  },
  {
   "cell_type": "code",
   "execution_count": 31,
   "id": "2db59a3a",
   "metadata": {},
   "outputs": [],
   "source": [
    "als = ALS(\n",
    "    rank=20,\n",
    "    userCol=\"user_id\",\n",
    "    itemCol=\"book_id\",\n",
    "    ratingCol=\"rating\",\n",
    "    coldStartStrategy=\"drop\",\n",
    "    nonnegative=True\n",
    ")"
   ]
  },
  {
   "cell_type": "code",
   "execution_count": 39,
   "id": "9b6b86fa",
   "metadata": {},
   "outputs": [
    {
     "name": "stderr",
     "output_type": "stream",
     "text": [
      "25/09/04 13:29:16 WARN InstanceBuilder: Failed to load implementation from:dev.ludovic.netlib.blas.JNIBLAS\n",
      "                                                                                \r"
     ]
    }
   ],
   "source": [
    "model = als.fit(training_set)"
   ]
  },
  {
   "cell_type": "code",
   "execution_count": 40,
   "id": "eb52f226",
   "metadata": {},
   "outputs": [],
   "source": [
    "preds = model.transform(test_set)"
   ]
  },
  {
   "cell_type": "code",
   "execution_count": 41,
   "id": "4ebcbd21",
   "metadata": {},
   "outputs": [
    {
     "name": "stderr",
     "output_type": "stream",
     "text": [
      "                                                                                \r"
     ]
    },
    {
     "name": "stdout",
     "output_type": "stream",
     "text": [
      "+-------+-------+------+----------+\n",
      "|user_id|book_id|rating|prediction|\n",
      "+-------+-------+------+----------+\n",
      "|  32592|      3|     5| 3.1839614|\n",
      "|  19984|      7|     5|  5.047631|\n",
      "|  32592|     20|     4| 3.6634092|\n",
      "|  19984|     22|     5|  4.670302|\n",
      "|  35982|     26|     2| 2.2080925|\n",
      "|  32592|     27|     4| 4.2122602|\n",
      "|  35982|     38|     3|   3.41518|\n",
      "|   1088|     44|     1| 2.6129036|\n",
      "|  32592|     46|     4|  4.054374|\n",
      "|  19984|     47|     5|  5.284743|\n",
      "+-------+-------+------+----------+\n",
      "only showing top 10 rows\n",
      "\n"
     ]
    }
   ],
   "source": [
    "preds.select(\"user_id\", \"book_id\", \"rating\", \"prediction\").show(10)"
   ]
  },
  {
   "cell_type": "code",
   "execution_count": 43,
   "id": "acbefd88",
   "metadata": {},
   "outputs": [
    {
     "name": "stderr",
     "output_type": "stream",
     "text": [
      "                                                                                \r"
     ]
    },
    {
     "name": "stdout",
     "output_type": "stream",
     "text": [
      "Test Verisi Üzerindeki Kök Ortalama Kare Hatası (RMSE) = 0.9030659515241622\n"
     ]
    }
   ],
   "source": [
    "evaluator = RegressionEvaluator(\n",
    "    metricName=\"rmse\",      # Hesaplamak istediğimiz metrik: RMSE\n",
    "    labelCol=\"rating\",      # \"Doğru cevapların\" bulunduğu sütunun adı\n",
    "    predictionCol=\"prediction\" # \"Modelin tahminlerinin\" bulunduğu sütunun adı\n",
    ")\n",
    "\n",
    "# Değerlendiriciyi, tahminleri içeren DataFrame üzerinde çalıştırıyoruz.\n",
    "rmse = evaluator.evaluate(preds)\n",
    "\n",
    "print(f\"Test Verisi Üzerindeki Kök Ortalama Kare Hatası (RMSE) = {rmse}\")"
   ]
  },
  {
   "cell_type": "code",
   "execution_count": 44,
   "id": "5b1e1445",
   "metadata": {},
   "outputs": [
    {
     "name": "stdout",
     "output_type": "stream",
     "text": [
      "Her kullanıcı için en iyi 5 kitap önerisi hesaplanıyor...\n",
      "Ham öneri formatı:\n",
      "root\n",
      " |-- user_id: integer (nullable = false)\n",
      " |-- recommendations: array (nullable = true)\n",
      " |    |-- element: struct (containsNull = true)\n",
      " |    |    |-- book_id: integer (nullable = true)\n",
      " |    |    |-- rating: float (nullable = true)\n",
      "\n"
     ]
    },
    {
     "name": "stderr",
     "output_type": "stream",
     "text": [
      "[Stage 177:====================================================> (98 + 2) / 100]\r"
     ]
    },
    {
     "name": "stdout",
     "output_type": "stream",
     "text": [
      "+-------+---------------------------------------------------------------------------------------------+\n",
      "|user_id|recommendations                                                                              |\n",
      "+-------+---------------------------------------------------------------------------------------------+\n",
      "|1      |[{6285, 3.8414783}, {9842, 3.815668}, {7831, 3.793963}, {2051, 3.7828848}, {7008, 3.7477252}]|\n",
      "|3      |[{8362, 1.033042}, {2590, 1.0188516}, {307, 1.0170922}, {7902, 1.012861}, {7593, 1.0115753}] |\n",
      "|5      |[{862, 4.8895006}, {723, 4.876078}, {6590, 4.829024}, {2292, 4.822625}, {3093, 4.7901845}]   |\n",
      "|6      |[{6089, 5.211527}, {4868, 5.1143374}, {3628, 5.062479}, {6902, 5.047463}, {8926, 5.043027}]  |\n",
      "|9      |[{8109, 4.1205454}, {9024, 4.065214}, {8946, 4.0373516}, {8926, 4.0175223}, {9531, 3.985509}]|\n",
      "+-------+---------------------------------------------------------------------------------------------+\n",
      "only showing top 5 rows\n",
      "\n"
     ]
    },
    {
     "name": "stderr",
     "output_type": "stream",
     "text": [
      "                                                                                \r"
     ]
    }
   ],
   "source": [
    "print(\"Her kullanıcı için en iyi 5 kitap önerisi hesaplanıyor...\")\n",
    "user_recs = model.recommendForAllUsers(5)\n",
    "\n",
    "print(\"Ham öneri formatı:\")\n",
    "user_recs.printSchema()\n",
    "user_recs.show(5, truncate=False)"
   ]
  },
  {
   "cell_type": "code",
   "execution_count": 45,
   "id": "4230b1d6",
   "metadata": {},
   "outputs": [
    {
     "name": "stdout",
     "output_type": "stream",
     "text": [
      "\n",
      "Her kitap için en uygun 5 kullanıcı önerisi hesaplanıyor...\n",
      "Ham öneri formatı:\n",
      "root\n",
      " |-- book_id: integer (nullable = false)\n",
      " |-- recommendations: array (nullable = true)\n",
      " |    |-- element: struct (containsNull = true)\n",
      " |    |    |-- user_id: integer (nullable = true)\n",
      " |    |    |-- rating: float (nullable = true)\n",
      "\n"
     ]
    },
    {
     "name": "stderr",
     "output_type": "stream",
     "text": [
      "[Stage 226:=====================================================>(99 + 1) / 100]\r"
     ]
    },
    {
     "name": "stdout",
     "output_type": "stream",
     "text": [
      "+-------+---------------------------------------------------------------------------------------------------+\n",
      "|book_id|recommendations                                                                                    |\n",
      "+-------+---------------------------------------------------------------------------------------------------+\n",
      "|1      |[{34886, 5.7956386}, {23753, 5.7770925}, {38263, 5.749137}, {34272, 5.7251973}, {30757, 5.7018046}]|\n",
      "|3      |[{31285, 4.9232116}, {15842, 4.845913}, {26861, 4.828252}, {7373, 4.7432876}, {7124, 4.6918855}]   |\n",
      "|5      |[{35816, 5.31054}, {47347, 5.3077493}, {40088, 5.2869205}, {6701, 5.2667537}, {30757, 5.203312}]   |\n",
      "|6      |[{30440, 5.491889}, {19137, 5.410286}, {34886, 5.383967}, {41085, 5.3579617}, {22638, 5.341396}]   |\n",
      "|9      |[{19137, 5.0235996}, {40181, 4.964751}, {38867, 4.94023}, {31602, 4.8850975}, {41819, 4.872061}]   |\n",
      "+-------+---------------------------------------------------------------------------------------------------+\n",
      "only showing top 5 rows\n",
      "\n"
     ]
    },
    {
     "name": "stderr",
     "output_type": "stream",
     "text": [
      "                                                                                \r"
     ]
    }
   ],
   "source": [
    "print(\"\\nHer kitap için en uygun 5 kullanıcı önerisi hesaplanıyor...\")\n",
    "item_recs = model.recommendForAllItems(5)\n",
    "\n",
    "print(\"Ham öneri formatı:\")\n",
    "item_recs.printSchema()\n",
    "item_recs.show(5, truncate=False)"
   ]
  }
 ],
 "metadata": {
  "kernelspec": {
   "display_name": "Python 3 (ipykernel)",
   "language": "python",
   "name": "python3"
  },
  "language_info": {
   "codemirror_mode": {
    "name": "ipython",
    "version": 3
   },
   "file_extension": ".py",
   "mimetype": "text/x-python",
   "name": "python",
   "nbconvert_exporter": "python",
   "pygments_lexer": "ipython3",
   "version": "3.12.3"
  }
 },
 "nbformat": 4,
 "nbformat_minor": 5
}
