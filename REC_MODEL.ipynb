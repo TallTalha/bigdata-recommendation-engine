{
 "cells": [
  {
   "cell_type": "markdown",
   "id": "66410cb5",
   "metadata": {},
   "source": [
    "# Verinin Yüklenmesi & Ön Hazırlık"
   ]
  },
  {
   "cell_type": "code",
   "execution_count": 18,
   "id": "9276b247",
   "metadata": {},
   "outputs": [],
   "source": [
    "from pyspark.sql import SparkSession\n",
    "from pyspark.sql import functions as F"
   ]
  },
  {
   "cell_type": "code",
   "execution_count": 19,
   "id": "337f3314",
   "metadata": {},
   "outputs": [],
   "source": [
    "spark = SparkSession.builder.appName(\"RecModel\").getOrCreate()"
   ]
  },
  {
   "cell_type": "code",
   "execution_count": 20,
   "id": "e775a809",
   "metadata": {},
   "outputs": [],
   "source": [
    "data_path = \"/home/projects/bigdata-recommendation-engine/data/\""
   ]
  },
  {
   "cell_type": "code",
   "execution_count": 21,
   "id": "c9bfac2a",
   "metadata": {},
   "outputs": [
    {
     "name": "stderr",
     "output_type": "stream",
     "text": [
      "                                                                                \r"
     ]
    }
   ],
   "source": [
    "books_df = (\n",
    "    spark.read\n",
    "    .format(\"csv\")\n",
    "    .option(\"header\", \"true\")\n",
    "    .option(\"inferSchema\", \"true\")\n",
    "    .load(f\"{data_path}books.csv\")\n",
    ")\n",
    "ratings_df = (\n",
    "    spark.read\n",
    "    .format(\"csv\")\n",
    "    .option(\"header\", \"true\")\n",
    "    .option(\"inferSchema\", \"true\")\n",
    "    .load(f\"{data_path}ratings.csv\")\n",
    ")"
   ]
  },
  {
   "cell_type": "code",
   "execution_count": 22,
   "id": "5e5bfaa9",
   "metadata": {},
   "outputs": [
    {
     "name": "stdout",
     "output_type": "stream",
     "text": [
      "root\n",
      " |-- id: integer (nullable = true)\n",
      " |-- book_id: integer (nullable = true)\n",
      " |-- best_book_id: integer (nullable = true)\n",
      " |-- work_id: integer (nullable = true)\n",
      " |-- books_count: integer (nullable = true)\n",
      " |-- isbn: string (nullable = true)\n",
      " |-- isbn13: double (nullable = true)\n",
      " |-- authors: string (nullable = true)\n",
      " |-- original_publication_year: double (nullable = true)\n",
      " |-- original_title: string (nullable = true)\n",
      " |-- title: string (nullable = true)\n",
      " |-- language_code: string (nullable = true)\n",
      " |-- average_rating: string (nullable = true)\n",
      " |-- ratings_count: string (nullable = true)\n",
      " |-- work_ratings_count: string (nullable = true)\n",
      " |-- work_text_reviews_count: string (nullable = true)\n",
      " |-- ratings_1: double (nullable = true)\n",
      " |-- ratings_2: integer (nullable = true)\n",
      " |-- ratings_3: integer (nullable = true)\n",
      " |-- ratings_4: integer (nullable = true)\n",
      " |-- ratings_5: integer (nullable = true)\n",
      " |-- image_url: string (nullable = true)\n",
      " |-- small_image_url: string (nullable = true)\n",
      "\n"
     ]
    }
   ],
   "source": [
    "books_df.printSchema()"
   ]
  },
  {
   "cell_type": "code",
   "execution_count": 34,
   "id": "9bf02f30",
   "metadata": {},
   "outputs": [],
   "source": [
    "final_books_df = ( \n",
    "    books_df\n",
    "    .withColumn(\"best_book_id\", F.col(\"best_book_id\").cast(\"string\"))\n",
    "    .withColumn(\"work_id\", F.col(\"work_id\").cast(\"string\"))\n",
    "    .withColumn(\"isbn13\", F.col(\"isbn13\").cast(\"string\"))\n",
    "    .withColumn(\"original_publication_year\", F.col(\"original_publication_year\").cast(\"int\"))\n",
    "    .withColumn(\"average_rating\", F.col(\"average_rating\").cast(\"double\"))\n",
    "    .withColumn(\"ratings_count\", F.col(\"ratings_count\").cast(\"int\"))\n",
    "    .withColumn(\"work_ratings_count\", F.col(\"work_ratings_count\").cast(\"int\"))\n",
    "    .withColumn(\"work_text_reviews_count\", F.col(\"work_text_reviews_count\").cast(\"int\"))\n",
    "    .withColumn(\"ratings_1\", F.col(\"ratings_1\").cast(\"int\"))\n",
    ")"
   ]
  },
  {
   "cell_type": "code",
   "execution_count": 36,
   "id": "fc088e1b",
   "metadata": {},
   "outputs": [
    {
     "name": "stdout",
     "output_type": "stream",
     "text": [
      "root\n",
      " |-- id: integer (nullable = true)\n",
      " |-- book_id: integer (nullable = true)\n",
      " |-- best_book_id: string (nullable = true)\n",
      " |-- work_id: string (nullable = true)\n",
      " |-- books_count: integer (nullable = true)\n",
      " |-- isbn: string (nullable = true)\n",
      " |-- isbn13: string (nullable = true)\n",
      " |-- authors: string (nullable = true)\n",
      " |-- original_publication_year: integer (nullable = true)\n",
      " |-- original_title: string (nullable = true)\n",
      " |-- title: string (nullable = true)\n",
      " |-- language_code: string (nullable = true)\n",
      " |-- average_rating: double (nullable = true)\n",
      " |-- ratings_count: integer (nullable = true)\n",
      " |-- work_ratings_count: integer (nullable = true)\n",
      " |-- work_text_reviews_count: integer (nullable = true)\n",
      " |-- ratings_1: integer (nullable = true)\n",
      " |-- ratings_2: integer (nullable = true)\n",
      " |-- ratings_3: integer (nullable = true)\n",
      " |-- ratings_4: integer (nullable = true)\n",
      " |-- ratings_5: integer (nullable = true)\n",
      " |-- image_url: string (nullable = true)\n",
      " |-- small_image_url: string (nullable = true)\n",
      "\n"
     ]
    }
   ],
   "source": [
    "final_books_df.printSchema()"
   ]
  },
  {
   "cell_type": "code",
   "execution_count": 25,
   "id": "ca1d7873",
   "metadata": {},
   "outputs": [
    {
     "name": "stdout",
     "output_type": "stream",
     "text": [
      "root\n",
      " |-- book_id: integer (nullable = true)\n",
      " |-- user_id: integer (nullable = true)\n",
      " |-- rating: integer (nullable = true)\n",
      "\n"
     ]
    }
   ],
   "source": [
    "ratings_df.printSchema()"
   ]
  },
  {
   "cell_type": "code",
   "execution_count": 33,
   "id": "497086ca",
   "metadata": {},
   "outputs": [],
   "source": [
    "final_ratings_df = (\n",
    "    ratings_df\n",
    ")"
   ]
  },
  {
   "cell_type": "code",
   "execution_count": 35,
   "id": "66eebce9",
   "metadata": {},
   "outputs": [
    {
     "name": "stdout",
     "output_type": "stream",
     "text": [
      "root\n",
      " |-- book_id: integer (nullable = true)\n",
      " |-- user_id: integer (nullable = true)\n",
      " |-- rating: integer (nullable = true)\n",
      "\n"
     ]
    }
   ],
   "source": [
    "final_ratings_df.printSchema()"
   ]
  },
  {
   "cell_type": "markdown",
   "id": "5b0021c7",
   "metadata": {},
   "source": [
    "# Modelin Eğitilmesi"
   ]
  },
  {
   "cell_type": "code",
   "execution_count": 28,
   "id": "df3b933e",
   "metadata": {},
   "outputs": [],
   "source": [
    "from pyspark.ml.recommendation import ALS\n",
    "from pyspark.ml.evaluation import RegressionEvaluator"
   ]
  },
  {
   "cell_type": "code",
   "execution_count": 37,
   "id": "5b076d76",
   "metadata": {},
   "outputs": [
    {
     "data": {
      "text/plain": [
       "DataFrame[book_id: int, user_id: int, rating: int]"
      ]
     },
     "execution_count": 37,
     "metadata": {},
     "output_type": "execute_result"
    }
   ],
   "source": [
    "(training_set, test_set) = final_ratings_df.randomSplit([0.8,0.2], seed=42)\n",
    "training_set.cache()\n",
    "test_set.cache()"
   ]
  },
  {
   "cell_type": "code",
   "execution_count": 38,
   "id": "356cfd5b",
   "metadata": {},
   "outputs": [
    {
     "name": "stderr",
     "output_type": "stream",
     "text": [
      "                                                                                \r"
     ]
    },
    {
     "name": "stdout",
     "output_type": "stream",
     "text": [
      "Toplam Oy:981756\n"
     ]
    },
    {
     "name": "stderr",
     "output_type": "stream",
     "text": [
      "                                                                                \r"
     ]
    },
    {
     "name": "stdout",
     "output_type": "stream",
     "text": [
      "Eğitim Seti Toplam Oy: 785323\n"
     ]
    },
    {
     "name": "stderr",
     "output_type": "stream",
     "text": [
      "[Stage 30:=============================>                            (1 + 1) / 2]\r"
     ]
    },
    {
     "name": "stdout",
     "output_type": "stream",
     "text": [
      "Test Seti Toplam Oy:196433\n"
     ]
    },
    {
     "name": "stderr",
     "output_type": "stream",
     "text": [
      "                                                                                \r"
     ]
    }
   ],
   "source": [
    "print(f\"Toplam Oy:{final_ratings_df.count()}\")\n",
    "print(f\"Eğitim Seti Toplam Oy: {training_set.count()}\")\n",
    "print(f\"Test Seti Toplam Oy:{test_set.count()}\")"
   ]
  },
  {
   "cell_type": "code",
   "execution_count": 31,
   "id": "2db59a3a",
   "metadata": {},
   "outputs": [],
   "source": [
    "als = ALS(\n",
    "    rank=20,\n",
    "    userCol=\"user_id\",\n",
    "    itemCol=\"book_id\",\n",
    "    ratingCol=\"rating\",\n",
    "    coldStartStrategy=\"drop\",\n",
    "    nonnegative=True\n",
    ")"
   ]
  },
  {
   "cell_type": "code",
   "execution_count": 39,
   "id": "9b6b86fa",
   "metadata": {},
   "outputs": [
    {
     "name": "stderr",
     "output_type": "stream",
     "text": [
      "25/09/04 13:29:16 WARN InstanceBuilder: Failed to load implementation from:dev.ludovic.netlib.blas.JNIBLAS\n",
      "                                                                                \r"
     ]
    }
   ],
   "source": [
    "model = als.fit(training_set)"
   ]
  },
  {
   "cell_type": "code",
   "execution_count": 40,
   "id": "eb52f226",
   "metadata": {},
   "outputs": [],
   "source": [
    "preds = model.transform(test_set)"
   ]
  },
  {
   "cell_type": "code",
   "execution_count": 41,
   "id": "4ebcbd21",
   "metadata": {},
   "outputs": [
    {
     "name": "stderr",
     "output_type": "stream",
     "text": [
      "                                                                                \r"
     ]
    },
    {
     "name": "stdout",
     "output_type": "stream",
     "text": [
      "+-------+-------+------+----------+\n",
      "|user_id|book_id|rating|prediction|\n",
      "+-------+-------+------+----------+\n",
      "|  32592|      3|     5| 3.1839614|\n",
      "|  19984|      7|     5|  5.047631|\n",
      "|  32592|     20|     4| 3.6634092|\n",
      "|  19984|     22|     5|  4.670302|\n",
      "|  35982|     26|     2| 2.2080925|\n",
      "|  32592|     27|     4| 4.2122602|\n",
      "|  35982|     38|     3|   3.41518|\n",
      "|   1088|     44|     1| 2.6129036|\n",
      "|  32592|     46|     4|  4.054374|\n",
      "|  19984|     47|     5|  5.284743|\n",
      "+-------+-------+------+----------+\n",
      "only showing top 10 rows\n",
      "\n"
     ]
    }
   ],
   "source": [
    "preds.select(\"user_id\", \"book_id\", \"rating\", \"prediction\").show(10)"
   ]
  },
  {
   "cell_type": "code",
   "execution_count": null,
   "id": "acbefd88",
   "metadata": {},
   "outputs": [
    {
     "ename": "NameError",
     "evalue": "name 'predictions' is not defined",
     "output_type": "error",
     "traceback": [
      "\u001b[31m---------------------------------------------------------------------------\u001b[39m",
      "\u001b[31mNameError\u001b[39m                                 Traceback (most recent call last)",
      "\u001b[36mCell\u001b[39m\u001b[36m \u001b[39m\u001b[32mIn[42]\u001b[39m\u001b[32m, line 8\u001b[39m\n\u001b[32m      1\u001b[39m evaluator = RegressionEvaluator(\n\u001b[32m      2\u001b[39m     metricName=\u001b[33m\"\u001b[39m\u001b[33mrmse\u001b[39m\u001b[33m\"\u001b[39m,      \u001b[38;5;66;03m# Hesaplamak istediğimiz metrik: RMSE\u001b[39;00m\n\u001b[32m      3\u001b[39m     labelCol=\u001b[33m\"\u001b[39m\u001b[33mrating\u001b[39m\u001b[33m\"\u001b[39m,      \u001b[38;5;66;03m# \"Doğru cevapların\" bulunduğu sütunun adı\u001b[39;00m\n\u001b[32m      4\u001b[39m     predictionCol=\u001b[33m\"\u001b[39m\u001b[33mprediction\u001b[39m\u001b[33m\"\u001b[39m \u001b[38;5;66;03m# \"Modelin tahminlerinin\" bulunduğu sütunun adı\u001b[39;00m\n\u001b[32m      5\u001b[39m )\n\u001b[32m      7\u001b[39m \u001b[38;5;66;03m# Değerlendiriciyi, tahminleri içeren DataFrame üzerinde çalıştırıyoruz.\u001b[39;00m\n\u001b[32m----> \u001b[39m\u001b[32m8\u001b[39m rmse = evaluator.evaluate(\u001b[43mpredictions\u001b[49m)\n\u001b[32m     10\u001b[39m \u001b[38;5;28mprint\u001b[39m(\u001b[33mf\u001b[39m\u001b[33m\"\u001b[39m\u001b[33mTest Verisi Üzerindeki Kök Ortalama Kare Hatası (RMSE) = \u001b[39m\u001b[38;5;132;01m{\u001b[39;00mrmse\u001b[38;5;132;01m}\u001b[39;00m\u001b[33m\"\u001b[39m)\n",
      "\u001b[31mNameError\u001b[39m: name 'predictions' is not defined"
     ]
    }
   ],
   "source": [
    "evaluator = RegressionEvaluator(\n",
    "    metricName=\"rmse\",      # Hesaplamak istediğimiz metrik: RMSE\n",
    "    labelCol=\"rating\",      # \"Doğru cevapların\" bulunduğu sütunun adı\n",
    "    predictionCol=\"prediction\" # \"Modelin tahminlerinin\" bulunduğu sütunun adı\n",
    ")\n",
    "\n",
    "# Değerlendiriciyi, tahminleri içeren DataFrame üzerinde çalıştırıyoruz.\n",
    "rmse = evaluator.evaluate(preds)\n",
    "\n",
    "print(f\"Test Verisi Üzerindeki Kök Ortalama Kare Hatası (RMSE) = {rmse}\")"
   ]
  }
 ],
 "metadata": {
  "kernelspec": {
   "display_name": "Python 3 (ipykernel)",
   "language": "python",
   "name": "python3"
  },
  "language_info": {
   "codemirror_mode": {
    "name": "ipython",
    "version": 3
   },
   "file_extension": ".py",
   "mimetype": "text/x-python",
   "name": "python",
   "nbconvert_exporter": "python",
   "pygments_lexer": "ipython3",
   "version": "3.12.3"
  }
 },
 "nbformat": 4,
 "nbformat_minor": 5
}
