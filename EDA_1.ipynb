{
 "cells": [
  {
   "cell_type": "markdown",
   "id": "ded08e83",
   "metadata": {},
   "source": [
    "# Verinin Yüklenmesi:"
   ]
  },
  {
   "cell_type": "code",
   "execution_count": 1,
   "id": "794f0e00",
   "metadata": {},
   "outputs": [],
   "source": [
    "from pyspark.sql import SparkSession"
   ]
  },
  {
   "cell_type": "code",
   "execution_count": 2,
   "id": "3cfc3cb7",
   "metadata": {},
   "outputs": [
    {
     "name": "stderr",
     "output_type": "stream",
     "text": [
      "Setting default log level to \"WARN\".\n",
      "To adjust logging level use sc.setLogLevel(newLevel). For SparkR, use setLogLevel(newLevel).\n",
      "25/09/04 10:20:19 WARN NativeCodeLoader: Unable to load native-hadoop library for your platform... using builtin-java classes where applicable\n"
     ]
    }
   ],
   "source": [
    "spark = SparkSession.builder.appName(\"RecSysEDA\").getOrCreate()"
   ]
  },
  {
   "cell_type": "code",
   "execution_count": 3,
   "id": "490cfe01",
   "metadata": {},
   "outputs": [],
   "source": [
    "data_path = \"/home/projects/bigdata-recommendation-engine/data/\""
   ]
  },
  {
   "cell_type": "code",
   "execution_count": 4,
   "id": "d19fe853",
   "metadata": {},
   "outputs": [
    {
     "name": "stderr",
     "output_type": "stream",
     "text": [
      "                                                                                \r"
     ]
    }
   ],
   "source": [
    "books_df = (\n",
    "    spark.read\n",
    "    .format(\"csv\")\n",
    "    .option(\"header\", \"true\")\n",
    "    .option(\"inferSchema\", \"true\")\n",
    "    .load(f\"{data_path}books.csv\")\n",
    ")"
   ]
  },
  {
   "cell_type": "code",
   "execution_count": 5,
   "id": "ba180952",
   "metadata": {},
   "outputs": [
    {
     "name": "stderr",
     "output_type": "stream",
     "text": [
      "                                                                                \r"
     ]
    }
   ],
   "source": [
    "ratings_df = (\n",
    "    spark.read\n",
    "    .format(\"csv\")\n",
    "    .option(\"header\", \"true\")\n",
    "    .option(\"inferSchema\", \"true\")\n",
    "    .load(f\"{data_path}ratings.csv\")\n",
    ")"
   ]
  },
  {
   "cell_type": "code",
   "execution_count": null,
   "id": "5787ccb1",
   "metadata": {},
   "outputs": [
    {
     "data": {
      "text/plain": [
       "DataFrame[book_id: int, user_id: int, rating: int]"
      ]
     },
     "execution_count": 6,
     "metadata": {},
     "output_type": "execute_result"
    }
   ],
   "source": [
    "books_df.cache()\n",
    "ratings_df.cache()"
   ]
  },
  {
   "cell_type": "code",
   "execution_count": 7,
   "id": "f1452893",
   "metadata": {},
   "outputs": [
    {
     "name": "stderr",
     "output_type": "stream",
     "text": [
      "                                                                                \r"
     ]
    },
    {
     "data": {
      "text/plain": [
       "10000"
      ]
     },
     "execution_count": 7,
     "metadata": {},
     "output_type": "execute_result"
    }
   ],
   "source": [
    "books_df.count()"
   ]
  },
  {
   "cell_type": "code",
   "execution_count": 8,
   "id": "ac585ce3",
   "metadata": {},
   "outputs": [
    {
     "name": "stderr",
     "output_type": "stream",
     "text": [
      "                                                                                \r"
     ]
    },
    {
     "data": {
      "text/plain": [
       "981756"
      ]
     },
     "execution_count": 8,
     "metadata": {},
     "output_type": "execute_result"
    }
   ],
   "source": [
    "ratings_df.count()"
   ]
  },
  {
   "cell_type": "markdown",
   "id": "5dec99f1",
   "metadata": {},
   "source": [
    "# Veri Tiplerinin Doğrulanması:"
   ]
  },
  {
   "cell_type": "markdown",
   "id": "d23b69dd",
   "metadata": {},
   "source": [
    "## books.csv Veri Tipi Kontrolü"
   ]
  },
  {
   "cell_type": "code",
   "execution_count": 9,
   "id": "7e41905c",
   "metadata": {},
   "outputs": [
    {
     "name": "stdout",
     "output_type": "stream",
     "text": [
      "root\n",
      " |-- id: integer (nullable = true)\n",
      " |-- book_id: integer (nullable = true)\n",
      " |-- best_book_id: integer (nullable = true)\n",
      " |-- work_id: integer (nullable = true)\n",
      " |-- books_count: integer (nullable = true)\n",
      " |-- isbn: string (nullable = true)\n",
      " |-- isbn13: double (nullable = true)\n",
      " |-- authors: string (nullable = true)\n",
      " |-- original_publication_year: double (nullable = true)\n",
      " |-- original_title: string (nullable = true)\n",
      " |-- title: string (nullable = true)\n",
      " |-- language_code: string (nullable = true)\n",
      " |-- average_rating: string (nullable = true)\n",
      " |-- ratings_count: string (nullable = true)\n",
      " |-- work_ratings_count: string (nullable = true)\n",
      " |-- work_text_reviews_count: string (nullable = true)\n",
      " |-- ratings_1: double (nullable = true)\n",
      " |-- ratings_2: integer (nullable = true)\n",
      " |-- ratings_3: integer (nullable = true)\n",
      " |-- ratings_4: integer (nullable = true)\n",
      " |-- ratings_5: integer (nullable = true)\n",
      " |-- image_url: string (nullable = true)\n",
      " |-- small_image_url: string (nullable = true)\n",
      "\n"
     ]
    }
   ],
   "source": [
    "books_df.printSchema()"
   ]
  },
  {
   "cell_type": "markdown",
   "id": "843b3877",
   "metadata": {},
   "source": [
    "### Yorum:\n",
    "\n",
    "**Kimlik alanları (id, book_id, best_book_id, work_id):** \n",
    "Spark integer olarak atamış. Bunlar sadece kimlik temsil eder, üzerinde matematiksel işlem yapılmaz. StringType kullanmak daha güvenli olur çünkü ileride farklı kaynaklardan birleştirme (join) yapılırken tip uyuşmazlıkları çıkabilir (örneğin MongoDB/Elastic id’leri string).\n",
    "\n",
    "**isbn, isbn13:** \n",
    "isbn doğru şekilde string. isbn13 yanlış şekilde double. ISBN numarası numerik gibi görünür ama aslında kimliktir. Başında sıfır olabilir, çok büyük olabilir → bu yüzden StringType olmalı. \n",
    "\n",
    "**original_publication_year:**\n",
    "double atanmış. Yıl bilgisi kesirli sayı olamaz → IntegerType olmalı. Hatta eksik/null değerler olabileceği için nullable IntegerType en uygunu. \n",
    "\n",
    "**average_rating:**\n",
    "string atanmış. Ortalama puan sayısal değerdir (ör. 4.12) → DoubleType olmalı.\n",
    "\n",
    "**ratings_count, work_ratings_count, work_text_reviews_count:** \n",
    "String olark atanmış. Bunlar sayı sayacı olduğu için IntegerType olmalı.(gerekirse LongType). \n",
    "\n",
    "**ratings_1, ratings_2, ratings_3, ratings_4, ratings_5:** \n",
    "Bunlar puan dağılımı için sayı sayacı. ratings_1 şu anda double, diğerleri integer. Tutarlılık için hepsi IntegerType (veya LongType) olmalı. \n",
    "\n",
    "**image_url, small_image_url:** string doğru. Bunlar URL metinleri olduğu için zaten string olmalı."
   ]
  },
  {
   "cell_type": "code",
   "execution_count": 10,
   "id": "a47ea317",
   "metadata": {},
   "outputs": [],
   "source": [
    "from pyspark.sql import functions as F"
   ]
  },
  {
   "cell_type": "code",
   "execution_count": 11,
   "id": "7df16db2",
   "metadata": {},
   "outputs": [],
   "source": [
    "books_df = ( \n",
    "    books_df\n",
    "    .withColumn(\"id\", F.col(\"id\").cast(\"string\"))\n",
    "    .withColumn(\"book_id\", F.col(\"book_id\").cast(\"string\"))\n",
    "    .withColumn(\"best_book_id\", F.col(\"best_book_id\").cast(\"string\"))\n",
    "    .withColumn(\"work_id\", F.col(\"work_id\").cast(\"string\"))\n",
    "    .withColumn(\"isbn13\", F.col(\"isbn13\").cast(\"string\"))\n",
    "    .withColumn(\"original_publication_year\", F.col(\"original_publication_year\").cast(\"int\"))\n",
    "    .withColumn(\"average_rating\", F.col(\"average_rating\").cast(\"double\"))\n",
    "    .withColumn(\"ratings_count\", F.col(\"ratings_count\").cast(\"int\"))\n",
    "    .withColumn(\"work_ratings_count\", F.col(\"work_ratings_count\").cast(\"int\"))\n",
    "    .withColumn(\"work_text_reviews_count\", F.col(\"work_text_reviews_count\").cast(\"int\"))\n",
    "    .withColumn(\"ratings_1\", F.col(\"ratings_1\").cast(\"int\"))\n",
    ")"
   ]
  },
  {
   "cell_type": "code",
   "execution_count": 12,
   "id": "7f37b90f",
   "metadata": {},
   "outputs": [
    {
     "name": "stdout",
     "output_type": "stream",
     "text": [
      "root\n",
      " |-- id: string (nullable = true)\n",
      " |-- book_id: string (nullable = true)\n",
      " |-- best_book_id: string (nullable = true)\n",
      " |-- work_id: string (nullable = true)\n",
      " |-- books_count: integer (nullable = true)\n",
      " |-- isbn: string (nullable = true)\n",
      " |-- isbn13: string (nullable = true)\n",
      " |-- authors: string (nullable = true)\n",
      " |-- original_publication_year: integer (nullable = true)\n",
      " |-- original_title: string (nullable = true)\n",
      " |-- title: string (nullable = true)\n",
      " |-- language_code: string (nullable = true)\n",
      " |-- average_rating: double (nullable = true)\n",
      " |-- ratings_count: integer (nullable = true)\n",
      " |-- work_ratings_count: integer (nullable = true)\n",
      " |-- work_text_reviews_count: integer (nullable = true)\n",
      " |-- ratings_1: integer (nullable = true)\n",
      " |-- ratings_2: integer (nullable = true)\n",
      " |-- ratings_3: integer (nullable = true)\n",
      " |-- ratings_4: integer (nullable = true)\n",
      " |-- ratings_5: integer (nullable = true)\n",
      " |-- image_url: string (nullable = true)\n",
      " |-- small_image_url: string (nullable = true)\n",
      "\n"
     ]
    }
   ],
   "source": [
    "books_df.printSchema()"
   ]
  },
  {
   "cell_type": "markdown",
   "id": "a9f3c019",
   "metadata": {},
   "source": [
    "## ratings.csv Veri Tipi Kontrolü"
   ]
  },
  {
   "cell_type": "code",
   "execution_count": 13,
   "id": "e6dbd8ef",
   "metadata": {},
   "outputs": [
    {
     "name": "stdout",
     "output_type": "stream",
     "text": [
      "root\n",
      " |-- book_id: integer (nullable = true)\n",
      " |-- user_id: integer (nullable = true)\n",
      " |-- rating: integer (nullable = true)\n",
      "\n"
     ]
    }
   ],
   "source": [
    "ratings_df.printSchema()"
   ]
  },
  {
   "cell_type": "markdown",
   "id": "e779e45e",
   "metadata": {},
   "source": [
    "### Yorum:\n",
    "**book_id, user_id**:\n",
    "ID alanları integer değil string tutulmalıdır.\n",
    "**rating**:\n",
    "Kullanıcılar tam sayı kullanarak puan verebiliyor, tam sayı  tanımı doğrudur."
   ]
  },
  {
   "cell_type": "code",
   "execution_count": 14,
   "id": "697faa4c",
   "metadata": {},
   "outputs": [],
   "source": [
    "ratings_df = (\n",
    "    ratings_df.withColumn(\"book_id\", F.col(\"book_id\").cast(\"string\"))\n",
    "    .withColumn(\"user_id\", F.col(\"user_id\").cast(\"string\"))\n",
    ")"
   ]
  },
  {
   "cell_type": "code",
   "execution_count": 15,
   "id": "d68ca897",
   "metadata": {},
   "outputs": [
    {
     "name": "stdout",
     "output_type": "stream",
     "text": [
      "root\n",
      " |-- book_id: string (nullable = true)\n",
      " |-- user_id: string (nullable = true)\n",
      " |-- rating: integer (nullable = true)\n",
      "\n"
     ]
    }
   ],
   "source": [
    "ratings_df.printSchema()"
   ]
  },
  {
   "cell_type": "markdown",
   "id": "2d766ab1",
   "metadata": {},
   "source": [
    "# Veri Kalitesi Analizi (Null ve Duplicate Değerler)"
   ]
  },
  {
   "cell_type": "markdown",
   "id": "0a6ce251",
   "metadata": {},
   "source": [
    "### Sütunların Gereklilikleri:\n",
    "**isbn, isbn13**: Daha önce de konuştuğumuz gibi, bunlar kitap endüstrisine özgü kimlik numaralarıdır ve kullanıcı tercihleriyle doğrudan bir ilişkisi yoktur.\n",
    "\n",
    "**original_title**: Daha tutarlı olan \"title\" sütunu kullanılır.\n",
    "\n",
    "**goodreads_book_id, best_book_id, work_id**: Bunlar da book_id gibi birer kimlik numarasıdır. ratings_csv ile join için book_id yeterlidir.\n",
    "\n",
    "**average_rating, ratings_count, work_ratings_count, work_text_reviews_count, ratings_1, ratings_2, ratings_3, ratings_4, ratings_5**: Bunlar, kitabın popülerliği hakkında bilgi veren, önceden agregasyon yapılmış (özetlenmiş) sütunlardır. Biz, ratings.csv'deki ham ve daha detaylı veriyi kullanarak kendi analizlerimizi yapacağımız için, bu hazır özetleri kendimiz yaratacağız."
   ]
  },
  {
   "cell_type": "code",
   "execution_count": 16,
   "id": "ddfdd3b5",
   "metadata": {},
   "outputs": [],
   "source": [
    "secilen_sutunlar = [\"id\", \"book_id\", \"original_publication_year\", \"title\", \"language_code\", \"authors\" ]"
   ]
  },
  {
   "cell_type": "code",
   "execution_count": 17,
   "id": "4ccaa7cb",
   "metadata": {},
   "outputs": [
    {
     "name": "stdout",
     "output_type": "stream",
     "text": [
      "+---+-------+-------------------------+--------------------+-------------+--------------------+\n",
      "| id|book_id|original_publication_year|               title|language_code|             authors|\n",
      "+---+-------+-------------------------+--------------------+-------------+--------------------+\n",
      "|  1|2767052|                     2008|The Hunger Games ...|          eng|     Suzanne Collins|\n",
      "|  2|      3|                     1997|Harry Potter and ...|          eng|J.K. Rowling, Mar...|\n",
      "|  3|  41865|                     2005|Twilight (Twiligh...|        en-US|     Stephenie Meyer|\n",
      "|  4|   2657|                     1960|To Kill a Mocking...|          eng|          Harper Lee|\n",
      "|  5|   4671|                     1925|    The Great Gatsby|          eng| F. Scott Fitzgerald|\n",
      "+---+-------+-------------------------+--------------------+-------------+--------------------+\n",
      "only showing top 5 rows\n",
      "\n"
     ]
    },
    {
     "data": {
      "text/plain": [
       "(None,)"
      ]
     },
     "execution_count": 17,
     "metadata": {},
     "output_type": "execute_result"
    }
   ],
   "source": [
    "books_simple_df = books_df.select(secilen_sutunlar)\n",
    "books_simple_df.show(5),\n"
   ]
  },
  {
   "cell_type": "markdown",
   "id": "234ca54c",
   "metadata": {},
   "source": [
    "## Null Değerlerin Bulunması"
   ]
  },
  {
   "cell_type": "code",
   "execution_count": 18,
   "id": "618a2bac",
   "metadata": {},
   "outputs": [
    {
     "name": "stdout",
     "output_type": "stream",
     "text": [
      "+---+-------+-------------------------+-----+-------------+-------+\n",
      "| id|book_id|original_publication_year|title|language_code|authors|\n",
      "+---+-------+-------------------------+-----+-------------+-------+\n",
      "|  0|      0|                       21|    0|         1084|      0|\n",
      "+---+-------+-------------------------+-----+-------------+-------+\n",
      "\n"
     ]
    }
   ],
   "source": [
    "books_null_counts = books_simple_df.select(\n",
    "    [ F.count(F.when(F.col(c).isNull(), c)).alias(c) for c in books_simple_df.columns]\n",
    ")\n",
    "\n",
    "books_null_counts.show()"
   ]
  },
  {
   "cell_type": "code",
   "execution_count": 19,
   "id": "c64348f6",
   "metadata": {},
   "outputs": [
    {
     "name": "stderr",
     "output_type": "stream",
     "text": [
      "[Stage 16:>                                                         (0 + 2) / 2]\r"
     ]
    },
    {
     "name": "stdout",
     "output_type": "stream",
     "text": [
      "+-------+-------+------+\n",
      "|book_id|user_id|rating|\n",
      "+-------+-------+------+\n",
      "|      0|      0|     0|\n",
      "+-------+-------+------+\n",
      "\n"
     ]
    },
    {
     "name": "stderr",
     "output_type": "stream",
     "text": [
      "                                                                                \r"
     ]
    }
   ],
   "source": [
    "ratings_null_counts = ratings_df.select(\n",
    "    [ F.count(F.when(F.col(c).isNull(), c)).alias(c) for c in ratings_df.columns ]\n",
    ")\n",
    "ratings_null_counts.show()"
   ]
  },
  {
   "cell_type": "markdown",
   "id": "2cd5d32b",
   "metadata": {},
   "source": [
    "### Null Değerler Hakkında Yorum:\n",
    "- ratings tablosu öneri sistemi için elzemdir, kullanıcıların tercihleri bu tablodadır. ratings tablosunda eksik veri olmadığı için bir null değerler için bir güncelleme gerekmez\n",
    "- books tablosunda;\n",
    "    - original_publication_year, okuyucuların hangi dönem kitapları sevdiği açısından önemlidir, null kayıtların veri içerindeki oranıyla %0,21, etkisi düşüktür. 0 ile güncellenir.\n",
    "    - language_code, kullanıcıların okuduğu kitabın dili segmentasyon için çok önemlidir, \"unknown\" değeriyle güncellenir.\n",
    "    "
   ]
  },
  {
   "cell_type": "code",
   "execution_count": 20,
   "id": "9cbc1124",
   "metadata": {},
   "outputs": [
    {
     "data": {
      "text/plain": [
       "0"
      ]
     },
     "execution_count": 20,
     "metadata": {},
     "output_type": "execute_result"
    }
   ],
   "source": [
    "books_df.filter(F.col(\"original_publication_year\") == 0).count()  # Orijinal verilerde 0 yılına kayıtlı kitap bulunmuyor. Yılı bilinmeyen kitaplar için ayrıştırıcı bir değer"
   ]
  },
  {
   "cell_type": "code",
   "execution_count": 21,
   "id": "91660161",
   "metadata": {},
   "outputs": [],
   "source": [
    "books_simple_df = books_simple_df.withColumn(\"original_publication_year\", F.when(F.col(\"original_publication_year\").isNull(), 0).otherwise(F.col(\"original_publication_year\")) )"
   ]
  },
  {
   "cell_type": "code",
   "execution_count": 22,
   "id": "b34c7c52",
   "metadata": {},
   "outputs": [
    {
     "name": "stdout",
     "output_type": "stream",
     "text": [
      "+-------------------------+----------+\n",
      "|original_publication_year|book_count|\n",
      "+-------------------------+----------+\n",
      "|                      975|         1|\n",
      "|                      800|         1|\n",
      "|                      609|         1|\n",
      "|                      397|         1|\n",
      "|                      180|         1|\n",
      "|                      119|         1|\n",
      "|                        8|         1|\n",
      "|                        0|        21|\n",
      "|                      -17|         1|\n",
      "|                     -300|         1|\n",
      "|                     -330|         1|\n",
      "|                     -335|         1|\n",
      "|                     -350|         2|\n",
      "|                     -380|         1|\n",
      "|                     -385|         2|\n",
      "|                     -390|         1|\n",
      "|                     -400|         2|\n",
      "|                     -401|         1|\n",
      "|                     -411|         2|\n",
      "|                     -430|         1|\n",
      "|                     -431|         1|\n",
      "|                     -440|         1|\n",
      "|                     -441|         1|\n",
      "|                     -458|         2|\n",
      "|                     -476|         1|\n",
      "|                     -500|         3|\n",
      "|                     -560|         1|\n",
      "|                     -720|         1|\n",
      "|                     -750|         2|\n",
      "|                     -762|         1|\n",
      "|                    -1750|         1|\n",
      "+-------------------------+----------+\n",
      "\n"
     ]
    }
   ],
   "source": [
    "year_grouped_books = (\n",
    "    books_simple_df\n",
    "    .groupBy(\"original_publication_year\")\n",
    "    .agg( F.count(\"book_id\").alias(\"book_count\") )\n",
    ")\n",
    "year_grouped_books.filter(F.col(\"original_publication_year\") < 1000).orderBy(F.col(\"original_publication_year\").desc()).show(50)"
   ]
  },
  {
   "cell_type": "code",
   "execution_count": 23,
   "id": "c8bf48bf",
   "metadata": {},
   "outputs": [],
   "source": [
    "books_simple_df = books_simple_df.withColumn( \"language_code\", F.when(F.col(\"language_code\").isNull(), \"unknown\").otherwise(F.lower(F.col(\"language_code\"))) )"
   ]
  },
  {
   "cell_type": "code",
   "execution_count": 24,
   "id": "63c025c2",
   "metadata": {},
   "outputs": [
    {
     "name": "stdout",
     "output_type": "stream",
     "text": [
      "+--------------------+----------+\n",
      "|       language_code|book_count|\n",
      "+--------------------+----------+\n",
      "|                 fre|        25|\n",
      "|                  en|         4|\n",
      "|               en-gb|       257|\n",
      "|                 rus|         1|\n",
      "|                 ind|        21|\n",
      "|             unknown|      1084|\n",
      "|                 per|         7|\n",
      "|                 nor|         3|\n",
      "|                 pol|         6|\n",
      "|               en-us|      2069|\n",
      "|bloody jack (bloo...|         1|\n",
      "|                 vie|         1|\n",
      "|                 ara|        64|\n",
      "|                 por|         6|\n",
      "|                 swe|         1|\n",
      "|                 mul|         1|\n",
      "|                 eng|      6340|\n",
      "|                 jpn|         7|\n",
      "|                  nl|         1|\n",
      "|                 dan|         3|\n",
      "|                 fil|         2|\n",
      "|                 tur|         1|\n",
      "|                 rum|         1|\n",
      "|               en-ca|        58|\n",
      "| \"\"a man named da...|         1|\n",
      "|                 ita|         2|\n",
      "|                 spa|        20|\n",
      "|                 ger|        13|\n",
      "+--------------------+----------+\n",
      "\n"
     ]
    }
   ],
   "source": [
    "langGroup_books = (\n",
    "    books_simple_df\n",
    "    .groupBy(\"language_code\")\n",
    "    .agg(F.count(\"book_id\").alias(\"book_count\") )\n",
    ")\n",
    "langGroup_books.show(50)"
   ]
  },
  {
   "cell_type": "markdown",
   "id": "8772102b",
   "metadata": {},
   "source": [
    "### Dil Kodları Yorum:\n",
    "**en, eng, en-US, en-CA** gibi bazı diller yrışmış. Bunları tek kümeye almak daha tutarlı olur, standardize edilir."
   ]
  },
  {
   "cell_type": "code",
   "execution_count": 25,
   "id": "ecd23766",
   "metadata": {},
   "outputs": [
    {
     "name": "stdout",
     "output_type": "stream",
     "text": [
      "+-------------+----------+\n",
      "|language_code|book_count|\n",
      "+-------------+----------+\n",
      "|          fre|        25|\n",
      "|          rus|         1|\n",
      "|          ind|        21|\n",
      "|      unknown|      1084|\n",
      "|          per|         7|\n",
      "|          nor|         3|\n",
      "|          pol|         6|\n",
      "|          vie|         1|\n",
      "|          ara|        64|\n",
      "|          por|         6|\n",
      "|          swe|         1|\n",
      "|          mul|         1|\n",
      "|          eng|      8730|\n",
      "|          jpn|         7|\n",
      "|           nl|         1|\n",
      "|          dan|         3|\n",
      "|          fil|         2|\n",
      "|          tur|         1|\n",
      "|          rum|         1|\n",
      "|          ita|         2|\n",
      "|          spa|        20|\n",
      "|          ger|        13|\n",
      "+-------------+----------+\n",
      "\n"
     ]
    }
   ],
   "source": [
    "books_langs_cleaned_df = books_simple_df.withColumn( \"language_code\",\n",
    "    F.when(F.col(\"language_code\").isin(\"en\",\"en-us\", \"en-gb\", \"en-ca\"), \"eng\")\n",
    "    .when(F.col(\"language_code\").contains(\"bloody jack\"), \"eng\")\n",
    "    .when(F.col(\"language_code\").contains(\"a man named\"), \"eng\")\n",
    "    .otherwise(F.col(\"language_code\"))\n",
    ")\n",
    "langGroup_books2 = (\n",
    "    books_langs_cleaned_df\n",
    "    .groupBy(\"language_code\")\n",
    "    .agg(F.count(\"book_id\").alias(\"book_count\") )\n",
    ")\n",
    "langGroup_books2.show(50)"
   ]
  },
  {
   "cell_type": "markdown",
   "id": "15e8a990",
   "metadata": {},
   "source": [
    "# Tek Değişkeli Analiz"
   ]
  },
  {
   "cell_type": "code",
   "execution_count": 26,
   "id": "cda8d420",
   "metadata": {},
   "outputs": [
    {
     "name": "stdout",
     "output_type": "stream",
     "text": [
      "+-------+-------------------------+\n",
      "|summary|original_publication_year|\n",
      "+-------+-------------------------+\n",
      "|  count|                    10000|\n",
      "|   mean|                1977.8255|\n",
      "| stddev|       177.37988615440943|\n",
      "|    min|                    -1750|\n",
      "|    max|                     2017|\n",
      "+-------+-------------------------+\n",
      "\n"
     ]
    }
   ],
   "source": [
    "books_final_df = books_langs_cleaned_df\n",
    "books_final_df.select(\"original_publication_year\").describe().show()\n"
   ]
  },
  {
   "cell_type": "markdown",
   "id": "7a6d825d",
   "metadata": {},
   "source": [
    "10k original_publication_year kaydı var, yılların ortalaması 1977 yani yakın tarihte daha çok kitap kaydı var , standart sapma 177 yani veri setindeki çoğu kitap 1800'lü yıllardan günümüze kadar olan yıllarda çıkmış, min değer -1750 yani milattan önceki kitaplarda mevcut, max 2017 yani veri setindeki en güncel kitapların yılı 2017."
   ]
  },
  {
   "cell_type": "code",
   "execution_count": 27,
   "id": "0e69bfd7",
   "metadata": {},
   "outputs": [
    {
     "name": "stdout",
     "output_type": "stream",
     "text": [
      "+-------+------------------+\n",
      "|summary|            rating|\n",
      "+-------+------------------+\n",
      "|  count|            981756|\n",
      "|   mean|3.8565335989797873|\n",
      "| stddev|0.9839408559620033|\n",
      "|    min|                 1|\n",
      "|    max|                 5|\n",
      "+-------+------------------+\n",
      "\n"
     ]
    }
   ],
   "source": [
    "ratings_df.select(\"rating\").describe().show()"
   ]
  },
  {
   "cell_type": "markdown",
   "id": "af7af481",
   "metadata": {},
   "source": [
    "981756 oy verilmiş, oyların ortalaması 3.85 yani kullanıcılar platformadaki kitapları iyi seviyesine yakın puanlıyor, standart sapma 0.98 yani kullanıcı oylamalarının çoğunluğu 2.87-4.85 arasında normal bir dağılım var, min değer 1 ve max değer 5, kullanıcılar 1-5 puanlayabildiği için bu değerler doğru, 1'den küçük veya 5'ten büyük olan aykırı değerler mevcut değil. "
   ]
  },
  {
   "cell_type": "markdown",
   "id": "8d5e880b",
   "metadata": {},
   "source": [
    "# Çok Değişkenli Analiz"
   ]
  },
  {
   "cell_type": "code",
   "execution_count": 28,
   "id": "ab1a0ddf",
   "metadata": {},
   "outputs": [
    {
     "name": "stderr",
     "output_type": "stream",
     "text": [
      "[Stage 37:=============================>                            (1 + 1) / 2]\r"
     ]
    },
    {
     "name": "stdout",
     "output_type": "stream",
     "text": [
      "+-------+----------+\n",
      "|book_id|avg_rating|\n",
      "+-------+----------+\n",
      "|   7947|      4.82|\n",
      "|   5207|      4.78|\n",
      "|   6920|      4.78|\n",
      "|   9566|      4.78|\n",
      "|   8946|      4.77|\n",
      "+-------+----------+\n",
      "only showing top 5 rows\n",
      "\n"
     ]
    },
    {
     "name": "stderr",
     "output_type": "stream",
     "text": [
      "                                                                                \r"
     ]
    }
   ],
   "source": [
    "avg_ratings = (\n",
    "    ratings_df\n",
    "    .groupBy(\"book_id\")\n",
    "    .agg(\n",
    "        F.round(F.avg(\"rating\"), 2).alias(\"avg_rating\")\n",
    "    )\n",
    ")\n",
    "avg_ratings.orderBy(F.col(\"avg_rating\").desc()).show(5)\n"
   ]
  },
  {
   "cell_type": "code",
   "execution_count": 29,
   "id": "fca44ffb",
   "metadata": {},
   "outputs": [
    {
     "name": "stdout",
     "output_type": "stream",
     "text": [
      "root\n",
      " |-- book_id: string (nullable = true)\n",
      " |-- id: string (nullable = true)\n",
      " |-- original_publication_year: integer (nullable = true)\n",
      " |-- title: string (nullable = true)\n",
      " |-- language_code: string (nullable = true)\n",
      " |-- authors: string (nullable = true)\n",
      " |-- avg_rating: double (nullable = true)\n",
      "\n"
     ]
    }
   ],
   "source": [
    "books_with_avg_rats = (books_final_df.join(avg_ratings, on=\"book_id\", how=\"inner\"))\n",
    "books_with_avg_rats.printSchema()"
   ]
  },
  {
   "cell_type": "code",
   "execution_count": 30,
   "id": "9cf9dbb9",
   "metadata": {},
   "outputs": [
    {
     "name": "stderr",
     "output_type": "stream",
     "text": [
      "                                                                                \r"
     ]
    },
    {
     "name": "stdout",
     "output_type": "stream",
     "text": [
      "-RECORD 0-----------------------------------------------\n",
      " book_id                   | 6194                       \n",
      " id                        | 5700                       \n",
      " original_publication_year | 1980                       \n",
      " title                     | Waiting for the Barbarians \n",
      " language_code             | eng                        \n",
      " authors                   | J.M. Coetzee               \n",
      " avg_rating                | 3.72                       \n",
      "only showing top 1 row\n",
      "\n"
     ]
    }
   ],
   "source": [
    "books_with_avg_rats.show(1, truncate=False, vertical=True)"
   ]
  }
 ],
 "metadata": {
  "kernelspec": {
   "display_name": "Python 3 (ipykernel)",
   "language": "python",
   "name": "python3"
  }
 },
 "nbformat": 4,
 "nbformat_minor": 5
}
